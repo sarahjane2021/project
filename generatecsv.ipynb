{
 "cells": [
  {
   "cell_type": "code",
   "execution_count": 2,
   "metadata": {},
   "outputs": [
    {
     "name": "stdout",
     "output_type": "stream",
     "text": [
      "CSV files generated successfully!\n"
     ]
    }
   ],
   "source": [
    "import csv\n",
    "import random\n",
    "from faker import Faker\n",
    "from datetime import datetime, timedelta\n",
    "\n",
    "fake = Faker()\n",
    "\n",
    "# Define available employees\n",
    "available_employee_ids = [1, 2, 6, 7, 8, 9, 10,11,12]\n",
    "\n",
    "# Generate Employees Data (Add 2 new employees)\n",
    "new_employees = []\n",
    "for _ in range(2):\n",
    "    fname = fake.first_name()\n",
    "    lname = fake.last_name()\n",
    "    new_employees.append([fname, lname])\n",
    "\n",
    "# Generate Attendance Data\n",
    "attendance_data = []\n",
    "for emp_id in available_employee_ids:\n",
    "    work_setup = random.choice(['Onsite', 'Remote'])\n",
    "    on_leave = random.choice([True, False])\n",
    "    leave_type = None if not on_leave else random.choice([\n",
    "        'Vacation Leave', 'Sick Leave', 'Maternity Leave', 'Paternity Leave', 'Special Leave for Women'\n",
    "    ])\n",
    "    duration_start = fake.date_time_this_month() if on_leave else None\n",
    "    duration_end = (duration_start + timedelta(days=random.randint(1, 5))) if duration_start else None\n",
    "    time_in = fake.time() if not on_leave else None\n",
    "    time_out = fake.time() if not on_leave else None\n",
    "    location = fake.city() if work_setup == 'Onsite' else 'Remote'\n",
    "\n",
    "    attendance_data.append([\n",
    "        emp_id, 'TechCorp', work_setup, on_leave, duration_start, duration_end, leave_type,\n",
    "        time_in, time_out, '2025-02-12', location\n",
    "    ])\n",
    "\n",
    "# Generate Story Points Data (5 tasks assigned to employees)\n",
    "story_points_data = []\n",
    "for _ in range(5):\n",
    "    employee_id = random.choice(available_employee_ids)\n",
    "    task = fake.sentence(nb_words=6)\n",
    "    state = random.choice(['Backlog', 'To Do', 'In Progress', 'Reopened', 'AUT', 'Done', 'Closed', 'Blocked'])\n",
    "    estimate = random.randint(1, 10)\n",
    "    start_date = fake.date_this_month()\n",
    "    due_date = start_date + timedelta(days=random.randint(1, 10))\n",
    "\n",
    "    story_points_data.append([employee_id, task, state, estimate, start_date, due_date])\n",
    "\n",
    "# Save to CSV files\n",
    "def save_csv(filename, headers, data):\n",
    "    with open(filename, mode='w', newline='') as file:\n",
    "        writer = csv.writer(file)\n",
    "        writer.writerow(headers)\n",
    "        writer.writerows(data)\n",
    "\n",
    "save_csv('employees.csv', ['fname', 'lname'], new_employees)\n",
    "save_csv('attendance.csv', ['employee_id', 'organization', 'work_setup', 'onleave', 'durationstart', 'durationend', 'leave_type', 'timein', 'timeout', 'date', 'location'], attendance_data)\n",
    "save_csv('story_points.csv', ['employee_id', 'task', 'state', 'estimate', 'start_date', 'due_date'], story_points_data)\n",
    "\n",
    "print(\"CSV files generated successfully!\")\n"
   ]
  }
 ],
 "metadata": {
  "kernelspec": {
   "display_name": "Python 3",
   "language": "python",
   "name": "python3"
  },
  "language_info": {
   "codemirror_mode": {
    "name": "ipython",
    "version": 3
   },
   "file_extension": ".py",
   "mimetype": "text/x-python",
   "name": "python",
   "nbconvert_exporter": "python",
   "pygments_lexer": "ipython3",
   "version": "3.12.9"
  }
 },
 "nbformat": 4,
 "nbformat_minor": 2
}
